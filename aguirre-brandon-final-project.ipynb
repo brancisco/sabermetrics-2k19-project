{
 "cells": [
  {
   "cell_type": "markdown",
   "metadata": {},
   "source": [
    "# AWPS - Aguirre's Wager Point System\n",
    "\n",
    "Below I implement a closed point rating system. I’ll define a “closed point” rating system to be a rating system that distributes a finite number of points to all players in the MLB. These points will be transferred between pitchers and batters each time a pitcher and batter face off."
   ]
  },
  {
   "cell_type": "markdown",
   "metadata": {},
   "source": [
    "## Set up env"
   ]
  },
  {
   "cell_type": "code",
   "execution_count": 332,
   "metadata": {},
   "outputs": [],
   "source": [
    "# import libs\n",
    "from pybaseball import statcast\n",
    "from pybaseball.lahman import *\n",
    "from pybaseball.team_batting import *\n",
    "import os\n",
    "import pandas as pd\n",
    "import numpy as np\n",
    "import matplotlib.pyplot as plt\n",
    "\n",
    "from Helpers import get_statcast_data\n",
    "\n",
    "# import data\n",
    "data = get_statcast_data('./data', 2017)\n",
    "data18 = get_statcast_data('./data', 2018)"
   ]
  },
  {
   "cell_type": "markdown",
   "metadata": {},
   "source": [
    "## Create helper functions"
   ]
  },
  {
   "cell_type": "code",
   "execution_count": 230,
   "metadata": {},
   "outputs": [],
   "source": [
    "def event_map(e):\n",
    "    emap = {\n",
    "        'single': 'h',\n",
    "        'double': 'h',\n",
    "        'triple': 'h',\n",
    "        'home_run': 'hr',\n",
    "        'strikeout': 'k'\n",
    "    }\n",
    "    if e in emap:\n",
    "        return emap[e]\n",
    "    else:\n",
    "        return -1\n",
    "\n",
    "def get_proba_function(df):\n",
    "    \"\"\"\n",
    "    Create a function which produces the probability of: a hit (excluding homerun), homerun, and strike\n",
    "    @param df pandas.DataFrame which has a years seasons worth of statcast data\n",
    "    @return a function which takes in an event (h, hr, k), and returns a probability of the event\n",
    "    \"\"\"\n",
    "    n_1b = len(df.loc[df.events == 'single'])\n",
    "    n_2b = len(df.loc[df.events == 'double'])\n",
    "    n_3b = len(df.loc[df.events == 'triple'])\n",
    "    n_hr = len(df.loc[df.events == 'home_run'])\n",
    "    n_so = len(df.loc[df.events == 'strikeout'])\n",
    "    n_bb = len(df.loc[df.events == 'walk'])\n",
    "    emap = { 'h': n_1b + n_2b + n_3b, 'hr': n_hr, 'k': n_so }\n",
    "    return lambda e: emap[e] / sum(list(emap.values()))\n",
    "\n",
    "def wager(p, b, f=10):\n",
    "    \"\"\"\n",
    "    Calculates the points a pitcher, and a batter should wager on a given event\n",
    "    @param p float: score of pitcher\n",
    "    @param b float: score of batter\n",
    "    @param f int: wager factor, weights how much players should wager\n",
    "    @return touple (float, float): (pitchers wager, batters wager)\n",
    "    \"\"\"\n",
    "    ep = p/(p + b)\n",
    "    eb = 1-ep\n",
    "    return (round(f*ep, 3), round(f*eb, 3))\n",
    "\n",
    "def get_assign_points_function(pf):\n",
    "    \"\"\"\n",
    "    @param pf float: probability function of an event\n",
    "    @return function which takes (p, b, e, f) as args\n",
    "    \"\"\"\n",
    "    def assign_points_function(p, b, e, f=10):\n",
    "        \"\"\"\n",
    "\n",
    "        @param p float: score of pitcher\n",
    "        @param b float: score of batter\n",
    "        @param e str[] | str: event (h | hr | k)\n",
    "        @param f int: wager factor, weights how much players should wager\n",
    "        @return tuple (float, float) which contains (pitchers new points, batters new points)\n",
    "        \"\"\"\n",
    "        pw, bw = wager(p, b, f)\n",
    "        if type(e) == str:\n",
    "            event = e\n",
    "        else:\n",
    "            event = e.pop(0)\n",
    "        proba = pf(event)\n",
    "        points = (None, None)\n",
    "        if event == 'k':\n",
    "            points = (p+(bw*(1-proba)), b-(bw*(1-proba)))\n",
    "        else:\n",
    "            points = (p-(pw*(1-proba)), b+(pw*(1-proba)))\n",
    "        points = (round(points[0], 3), round(points[1], 3))\n",
    "        if type(e) == str or len(e) == 0:\n",
    "            return points\n",
    "        else:\n",
    "            return assign_points_function(points[0], points[1], e, f)\n",
    "    return assign_points_function"
   ]
  },
  {
   "cell_type": "markdown",
   "metadata": {},
   "source": [
    "## Define constants"
   ]
  },
  {
   "cell_type": "code",
   "execution_count": 301,
   "metadata": {},
   "outputs": [],
   "source": [
    "# factor to weight how much points should be wagered in an event\n",
    "wf = 15\n",
    "# event probability function\n",
    "epf = get_proba_function(data)\n",
    "# assign points function\n",
    "update_score = get_assign_points_function(epf)"
   ]
  },
  {
   "cell_type": "markdown",
   "metadata": {},
   "source": [
    "## Examples of how functions work"
   ]
  },
  {
   "cell_type": "markdown",
   "metadata": {},
   "source": [
    "### Event Probability Function"
   ]
  },
  {
   "cell_type": "code",
   "execution_count": 302,
   "metadata": {},
   "outputs": [
    {
     "name": "stdout",
     "output_type": "stream",
     "text": [
      "probability of a hit (includes single, double, triple) is 0.4366820362349215\n",
      "probability of a homerun is 0.07416981044199153\n",
      "probability of a strikeout is 0.489148153323087\n"
     ]
    }
   ],
   "source": [
    "print('probability of a hit (includes single, double, triple) is', epf('h'))\n",
    "print('probability of a homerun is', epf('hr'))\n",
    "print('probability of a strikeout is', epf('k'))"
   ]
  },
  {
   "cell_type": "markdown",
   "metadata": {},
   "source": [
    "### Wager Function\n",
    "\n",
    "The following examples will show the properties of the wager function.\n",
    "\n",
    "1. If two players have the same amount of points, they will wager a constant number of points (which depends on the wager factor) no matter how high or low thier points are compared to other players.\n",
    "2. The amount of points wagered depends on the difference in skill level. The bigger the gap, the more points will be wagered by each player.\n",
    "\n",
    "The format of the following example are {player#}:{points}:{wager}, example => {p1:1500:5}"
   ]
  },
  {
   "cell_type": "code",
   "execution_count": 303,
   "metadata": {},
   "outputs": [
    {
     "name": "stdout",
     "output_type": "stream",
     "text": [
      "SAME number of points => (p1:1500:7.5, p2:1500:7.5)\n",
      "SAME number of points => (p1:1300:7.5, p2:1300:7.5)\n",
      "DIFFERENT number of points SMALL GAP => (p1:1400:7.241, p2:1500:7.759)\n",
      "DIFFERENT number of points LARGE GAP => (p1:1000:5.556, p2:1700:9.444)\n"
     ]
    }
   ],
   "source": [
    "p1, p2 = 1500, 1500\n",
    "p1w, p2w = wager(p1, p2, wf)\n",
    "print('SAME number of points => (p1:{}:{}, p2:{}:{})'\n",
    "      .format(p1, p1w, p2, p2w))\n",
    "\n",
    "p1, p2 = 1300, 1300\n",
    "p1w, p2w = wager(p1, p2, wf)\n",
    "print('SAME number of points => (p1:{}:{}, p2:{}:{})'\n",
    "      .format(p1, p1w, p2, p2w))\n",
    "\n",
    "p1, p2 = 1400, 1500\n",
    "p1w, p2w = wager(p1, p2, wf)\n",
    "print('DIFFERENT number of points SMALL GAP => (p1:{}:{}, p2:{}:{})'\n",
    "      .format(p1, p1w, p2, p2w))\n",
    "\n",
    "p1, p2 = 1000, 1700\n",
    "p1w, p2w = wager(p1, p2, wf)\n",
    "print('DIFFERENT number of points LARGE GAP => (p1:{}:{}, p2:{}:{})'\n",
    "      .format(p1, p1w, p2, p2w))"
   ]
  },
  {
   "cell_type": "markdown",
   "metadata": {},
   "source": [
    "### Update Score Function (or Assign Points Function)"
   ]
  },
  {
   "cell_type": "code",
   "execution_count": 304,
   "metadata": {},
   "outputs": [
    {
     "name": "stdout",
     "output_type": "stream",
     "text": [
      "pitchers final points from this string of events is 1503.708\n",
      "updated batter points [1496.169, 1396.306, 1296.452, 1454.312, 1396.309, 1606.744]\n"
     ]
    }
   ],
   "source": [
    "# pitcher who is pitching\n",
    "pitcher = 1500\n",
    "# list of batters up to bat with the result of each event\n",
    "batter_event = [[1500, 'k'], [1400, 'k'], [1300, 'k'], [1450, 'h'], [1400, 'k'], [1600, 'hr']]\n",
    "for i in range(len(batter_event)):\n",
    "    batter, event = batter_event[i]\n",
    "    pitcher, batter_event[i] = update_score(pitcher, batter, event, wf)\n",
    "\n",
    "print('pitchers final points from this string of events is', pitcher)\n",
    "print('updated batter points', batter_event)"
   ]
  },
  {
   "cell_type": "markdown",
   "metadata": {},
   "source": [
    "## Running the algorithm\n",
    "\n",
    "+ Initialize by giving every player the same number of points (e.g., 1500 points) at the start of a some season.\n",
    "+ Before each event (single, double, triple, hr, k), compute how much each player will wager based on their skill levels. The player with the higher skill level will wager more points than a player with less points.\n",
    "+ After each event, depending on the probability of the event, compute how much of the wagered points will be transferred to the other player.\n"
   ]
  },
  {
   "cell_type": "markdown",
   "metadata": {},
   "source": [
    "### 2017 Season Data"
   ]
  },
  {
   "cell_type": "code",
   "execution_count": 305,
   "metadata": {},
   "outputs": [],
   "source": [
    "point_df = data.loc[:, ('game_date', 'game_pk', 'sv_id', 'pitcher', 'batter', 'events')].copy()\n",
    "points_df = point_df.sort_values(['game_date', 'sv_id'])\n",
    "pitchers = { int(p): [1500.0] for p in point_df.pitcher.unique()}\n",
    "batters = { int(b): [1500.0] for b in point_df.batter.unique()}"
   ]
  },
  {
   "cell_type": "code",
   "execution_count": 306,
   "metadata": {},
   "outputs": [],
   "source": [
    "for row in point_df.iterrows():\n",
    "    row = row[1]\n",
    "    event = event_map(row.events)\n",
    "    if event != -1:\n",
    "        p_id = int(row.pitcher)\n",
    "        b_id = int(row.batter)\n",
    "        update = update_score(pitchers[p_id][-1], batters[b_id][-1], event, wf)\n",
    "        pitchers[p_id].append(update[0])\n",
    "        batters[b_id].append(update[1])"
   ]
  },
  {
   "cell_type": "code",
   "execution_count": 268,
   "metadata": {},
   "outputs": [],
   "source": [
    "# sort the batters and pitchers by thier final scores\n",
    "batters_sorted = sorted([(k, v[-1]) for k, v in batters.items()], key=lambda x: x[1])\n",
    "pitchers_sorted = sorted([(k, v[-1]) for k, v in pitchers.items()], key=lambda x: x[1])"
   ]
  },
  {
   "cell_type": "code",
   "execution_count": 331,
   "metadata": {},
   "outputs": [
    {
     "data": {
      "image/png": "[encoded data removed]",
      "text/plain": [
       "<Figure size 432x288 with 1 Axes>"
      ]
     },
     "metadata": {
      "needs_background": "light"
     },
     "output_type": "display_data"
    }
   ],
   "source": [
    "# plot the final points of all players\n",
    "plt.scatter(np.array(batters_sorted).transpose()[1], np.linspace(0, 1, len(batters_sorted)), color='r', alpha=.2)\n",
    "plt.scatter(np.array(pitchers_sorted).transpose()[1], np.linspace(0, 1, len(pitchers_sorted)), color='b', alpha=.2)\n",
    "plt.title('Points Distributed End Of 2017 Season')\n",
    "plt.ylabel('Rank')\n",
    "plt.xlabel('Points')\n",
    "plt.legend(['Batter', 'Pitcher'])\n",
    "plt.show()"
   ]
  },
  {
   "cell_type": "markdown",
   "metadata": {},
   "source": [
    "### 2018 Season Data"
   ]
  },
  {
   "cell_type": "code",
   "execution_count": 333,
   "metadata": {},
   "outputs": [],
   "source": [
    "point_df = data18.loc[:, ('game_date', 'game_pk', 'sv_id', 'pitcher', 'batter', 'events')].copy()\n",
    "points_df = point_df.sort_values(['game_date', 'sv_id'])\n",
    "pitchers = { int(p): [1500.0] for p in point_df.pitcher.unique()}\n",
    "batters = { int(b): [1500.0] for b in point_df.batter.unique()}"
   ]
  },
  {
   "cell_type": "code",
   "execution_count": 334,
   "metadata": {},
   "outputs": [],
   "source": [
    "for row in point_df.iterrows():\n",
    "    row = row[1]\n",
    "    event = event_map(row.events)\n",
    "    if event != -1:\n",
    "        p_id = int(row.pitcher)\n",
    "        b_id = int(row.batter)\n",
    "        update = update_score(pitchers[p_id][-1], batters[b_id][-1], event, wf)\n",
    "        pitchers[p_id].append(update[0])\n",
    "        batters[b_id].append(update[1])"
   ]
  },
  {
   "cell_type": "code",
   "execution_count": 335,
   "metadata": {},
   "outputs": [],
   "source": [
    "# sort the batters and pitchers by thier final scores\n",
    "batters_sorted = sorted([(k, v[-1]) for k, v in batters.items()], key=lambda x: x[1])\n",
    "pitchers_sorted = sorted([(k, v[-1]) for k, v in pitchers.items()], key=lambda x: x[1])"
   ]
  },
  {
   "cell_type": "code",
   "execution_count": 337,
   "metadata": {},
   "outputs": [
    {
     "data": {
      "image/png": "[encoded data removed]",
      "text/plain": [
       "<Figure size 432x288 with 1 Axes>"
      ]
     },
     "metadata": {
      "needs_background": "light"
     },
     "output_type": "display_data"
    }
   ],
   "source": [
    "# plot the final points of all players\n",
    "plt.scatter(np.array(batters_sorted).transpose()[1], np.linspace(0, 1, len(batters_sorted)), color='r', alpha=.2)\n",
    "plt.scatter(np.array(pitchers_sorted).transpose()[1], np.linspace(0, 1, len(pitchers_sorted)), color='b', alpha=.2)\n",
    "plt.title('Points Distributed End Of 2018 Season')\n",
    "plt.ylabel('Rank')\n",
    "plt.xlabel('Points')\n",
    "plt.legend(['Batter', 'Pitcher'])\n",
    "plt.show()"
   ]
  },
  {
   "cell_type": "markdown",
   "metadata": {},
   "source": [
    "# NOTES\n",
    "\n",
    "+ Useful for looking what each column in statcast data is https://baseballsavant.mlb.com/csv-docs#events"
   ]
  }
 ],
 "metadata": {
  "kernelspec": {
   "display_name": "Python 3",
   "language": "python",
   "name": "python3"
  },
  "language_info": {
   "codemirror_mode": {
    "name": "ipython",
    "version": 3
   },
   "file_extension": ".py",
   "mimetype": "text/x-python",
   "name": "python",
   "nbconvert_exporter": "python",
   "pygments_lexer": "ipython3",
   "version": "3.7.0"
  }
 },
 "nbformat": 4,
 "nbformat_minor": 2
}
