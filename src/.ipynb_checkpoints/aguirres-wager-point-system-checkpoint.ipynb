{
 "cells": [
  {
   "cell_type": "markdown",
   "metadata": {},
   "source": [
    "# AWPS - Aguirre's Wager Point System\n",
    "\n",
    "Below I implement a closed point rating system. I’ll define a “closed point” rating system to be a rating system that distributes a finite number of points to all players in the MLB. These points will be transferred between pitchers and batters each time a pitcher and batter face off."
   ]
  },
  {
   "cell_type": "markdown",
   "metadata": {},
   "source": [
    "## Set up env"
   ]
  },
  {
   "cell_type": "code",
   "execution_count": 4,
   "metadata": {},
   "outputs": [],
   "source": [
    "# import libs\n",
    "from pybaseball import statcast\n",
    "from pybaseball.lahman import *\n",
    "from pybaseball.team_batting import *\n",
    "import os\n",
    "import pandas as pd\n",
    "import numpy as np\n",
    "import matplotlib.pyplot as plt\n",
    "\n",
    "from Helpers import get_statcast_data"
   ]
  },
  {
   "cell_type": "code",
   "execution_count": null,
   "metadata": {},
   "outputs": [],
   "source": [
    "# import data\n",
    "data = get_statcast_data('../data', 2017)\n",
    "data18 = get_statcast_data('../data', 2018)"
   ]
  },
  {
   "cell_type": "markdown",
   "metadata": {},
   "source": [
    "## Create helper functions"
   ]
  },
  {
   "cell_type": "code",
   "execution_count": 211,
   "metadata": {},
   "outputs": [],
   "source": [
    "def event_map(e):\n",
    "    \"\"\"\n",
    "    Map a string from the statcast database events column to a key\n",
    "    @param e str which is a value from the events column\n",
    "    @return str|int (h, hr, k) | -1\n",
    "    \"\"\"\n",
    "    emap = {\n",
    "        'single': 'h',\n",
    "        'double': 'h',\n",
    "        'triple': 'h',\n",
    "        'home_run': 'hr',\n",
    "        'strikeout': 'k'\n",
    "    }\n",
    "    if e in emap:\n",
    "        return emap[e]\n",
    "    else:\n",
    "        return -1\n",
    "\n",
    "def get_proba_function(df):\n",
    "    \"\"\"\n",
    "    Create a function which produces the probability of: a hit (excluding homerun), homerun, and strike\n",
    "    @param df pandas.DataFrame which has a years seasons worth of statcast data\n",
    "    @return a function which takes in an event (h, hr, k), and returns a probability of the event\n",
    "    \"\"\"\n",
    "    n_1b = len(df.loc[df.events == 'single'])\n",
    "    n_2b = len(df.loc[df.events == 'double'])\n",
    "    n_3b = len(df.loc[df.events == 'triple'])\n",
    "    n_hr = len(df.loc[df.events == 'home_run'])\n",
    "    n_so = len(df.loc[df.events == 'strikeout'])\n",
    "    n_bb = len(df.loc[df.events == 'walk'])\n",
    "    emap = { 'h': n_1b + n_2b + n_3b, 'hr': n_hr, 'k': n_so }\n",
    "    return lambda e: emap[e] / sum(list(emap.values()))\n",
    "\n",
    "def wager(p, b, k):\n",
    "    \"\"\"\n",
    "    Calculates the points a pitcher, and a batter should wager on a given event\n",
    "    @param p float: score of pitcher\n",
    "    @param b float: score of batter\n",
    "    @param k int: wager factor, weights how much players should wager\n",
    "    @return touple (float, float): (pitchers wager, batters wager)\n",
    "    \"\"\"\n",
    "    ep = (10**(p/400))/((10**(p/400)) + (10**(b/400)))\n",
    "    eb = 1-ep\n",
    "    return (round(k(p)*ep, 3), round(k(b)*eb, 3))\n",
    "\n",
    "def get_assign_points_function(pf):\n",
    "    \"\"\"\n",
    "    @param pf float: probability function of an event\n",
    "    @return function which takes (p, b, e, f) as args\n",
    "    \"\"\"\n",
    "    def assign_points_function(p, b, e, k):\n",
    "        \"\"\"\n",
    "        @param p float: score of pitcher\n",
    "        @param b float: score of batter\n",
    "        @param e str[] | str: event (h | hr | k)\n",
    "        @param k int: wager factor, weights how much players should wager\n",
    "        @return tuple (float, float) which contains (pitchers new points, batters new points)\n",
    "        \"\"\"\n",
    "        pw, bw = wager(p, b, k)\n",
    "        if type(e) == str:\n",
    "            event = e\n",
    "        else:\n",
    "            event = e.pop(0)\n",
    "        proba = pf(event)\n",
    "        points = (None, None)\n",
    "        if event == 'k':\n",
    "            percent = proba\n",
    "            points = (p+(bw*percent), b-(bw*percent))\n",
    "        elif event == 'h' or event == 'hr':\n",
    "            percent = (pf('h') + pf('hr'))\n",
    "            points = (p-(bw*percent), b+(bw*percent))\n",
    "#         elif event == 'hr':\n",
    "#             percent = 1 - ((proba+pf('h')) / 1)\n",
    "#             points = (p-(bw*percent), b+(bw*percent))\n",
    "        points = (round(points[0], 3), round(points[1], 3))\n",
    "        if type(e) == str or len(e) == 0:\n",
    "            return points\n",
    "        else:\n",
    "            return assign_points_function(points[0], points[1], e, f)\n",
    "    return assign_points_function\n",
    "\n",
    "def k_function(p):\n",
    "    \"\"\"\n",
    "    @param p float which is the number of points a player has\n",
    "    @ return float which is the k multiplier for how much a player should wager\n",
    "    \"\"\"\n",
    "    res = np.exp(3600/(p))\n",
    "    if res >= 20:\n",
    "        return 20*2\n",
    "    elif res <= 10:\n",
    "        return 10*2\n",
    "    else:\n",
    "        return res*2\n",
    "    \n",
    "def history_avg(arr, n):\n",
    "    \"\"\"\n",
    "    @param arr list which contains floats \n",
    "    @param n int specifying how far back to average (window)\n",
    "    @return average from window length n to end of arr\n",
    "    \"\"\"\n",
    "    l = len(arr)\n",
    "    if n > l:\n",
    "        n = l\n",
    "    return np.mean(arr[-n:])"
   ]
  },
  {
   "cell_type": "markdown",
   "metadata": {},
   "source": [
    "## K Function\n",
    "\n",
    "In the Elo rating system the [**k factor**](https://en.wikipedia.org/wiki/Elo_rating_system#Most_accurate_K-factor) is a number used in the calculation of how many points a player should wager. There is some theoretical research on the best k factors to use, but many different organizations in chess use different k factor values.\n",
    "\n",
    "Typically the k factor is staggered at different values for different ranges of players. I have chosen to create a function that changes the k factor with the number of points a player has. I based this function off of the range described by [Jeff Sonas](https://en.wikipedia.org/wiki/Jeff_Sonas)."
   ]
  },
  {
   "cell_type": "code",
   "execution_count": 212,
   "metadata": {},
   "outputs": [
    {
     "data": {
      "text/plain": [
       "[<matplotlib.lines.Line2D at 0x10d505828>]"
      ]
     },
     "execution_count": 212,
     "metadata": {},
     "output_type": "execute_result"
    },
    {
     "data": {
      "image/png": "[encoded data removed]",
      "text/plain": [
       "<Figure size 432x288 with 1 Axes>"
      ]
     },
     "metadata": {
      "needs_background": "light"
     },
     "output_type": "display_data"
    }
   ],
   "source": [
    "# view of the k_function\n",
    "r = list(range(1100, 1700))\n",
    "vals = list(map(k_function, r))\n",
    "plt.plot(r, vals)"
   ]
  },
  {
   "cell_type": "markdown",
   "metadata": {},
   "source": [
    "## Define constants"
   ]
  },
  {
   "cell_type": "code",
   "execution_count": 213,
   "metadata": {},
   "outputs": [],
   "source": [
    "# factor to weight how much points should be wagered in an event\n",
    "wf = k_function\n",
    "# event probability function\n",
    "epf = get_proba_function(data)\n",
    "# assign points function\n",
    "update_score = get_assign_points_function(epf)\n",
    "# history: how far back to avg a score (prevents sensitivity to local events)\n",
    "h = 5"
   ]
  },
  {
   "cell_type": "markdown",
   "metadata": {},
   "source": [
    "## Examples of how functions work"
   ]
  },
  {
   "cell_type": "markdown",
   "metadata": {},
   "source": [
    "### Event Probability Function"
   ]
  },
  {
   "cell_type": "code",
   "execution_count": 214,
   "metadata": {},
   "outputs": [
    {
     "name": "stdout",
     "output_type": "stream",
     "text": [
      "probability of a hit (includes single, double, triple) is 0.4366820362349215\n",
      "probability of a homerun is 0.07416981044199153\n",
      "probability of a strikeout is 0.489148153323087\n",
      "sum:  1.0\n"
     ]
    }
   ],
   "source": [
    "print('probability of a hit (includes single, double, triple) is', epf('h'))\n",
    "print('probability of a homerun is', epf('hr'))\n",
    "print('probability of a strikeout is', epf('k'))\n",
    "print('sum: ', epf('h') + epf('hr') + epf('k'))"
   ]
  },
  {
   "cell_type": "markdown",
   "metadata": {},
   "source": [
    "### Wager Function\n",
    "\n",
    "The following examples will show the properties of the wager function.\n",
    "\n",
    "1. If two players have the same amount of points, they will wager a constant number of points (which depends on the wager factor) no matter how high or low thier points are compared to other players.\n",
    "2. The amount of points wagered depends on the difference in skill level. The bigger the gap, the more points will be wagered by each player.\n",
    "\n",
    "The format of the following example are {player#}:{points}:{wager}, example => {p1:1500:5}"
   ]
  },
  {
   "cell_type": "code",
   "execution_count": 215,
   "metadata": {},
   "outputs": [
    {
     "name": "stdout",
     "output_type": "stream",
     "text": [
      "SAME number of points => (p1:1500:11.023, p2:1500:11.023)\n",
      "SAME number of points => (p1:1300:15.946, p2:1300:15.946)\n",
      "DIFFERENT number of points SMALL GAP => (p1:1400:9.419, p2:1500:14.111)\n",
      "DIFFERENT number of points LARGE GAP => (p1:1000:0.699, p2:1700:19.651)\n"
     ]
    }
   ],
   "source": [
    "p1, p2 = 1500, 1500\n",
    "p1w, p2w = wager(p1, p2, wf)\n",
    "print('SAME number of points => (p1:{}:{}, p2:{}:{})'\n",
    "      .format(p1, p1w, p2, p2w))\n",
    "\n",
    "p1, p2 = 1300, 1300\n",
    "p1w, p2w = wager(p1, p2, wf)\n",
    "print('SAME number of points => (p1:{}:{}, p2:{}:{})'\n",
    "      .format(p1, p1w, p2, p2w))\n",
    "\n",
    "p1, p2 = 1400, 1500\n",
    "p1w, p2w = wager(p1, p2, wf)\n",
    "print('DIFFERENT number of points SMALL GAP => (p1:{}:{}, p2:{}:{})'\n",
    "      .format(p1, p1w, p2, p2w))\n",
    "\n",
    "p1, p2 = 1000, 1700\n",
    "p1w, p2w = wager(p1, p2, wf)\n",
    "print('DIFFERENT number of points LARGE GAP => (p1:{}:{}, p2:{}:{})'\n",
    "      .format(p1, p1w, p2, p2w))"
   ]
  },
  {
   "cell_type": "markdown",
   "metadata": {},
   "source": [
    "### Update Score Function (or Assign Points Function)\n",
    "\n"
   ]
  },
  {
   "cell_type": "code",
   "execution_count": 216,
   "metadata": {},
   "outputs": [
    {
     "name": "stdout",
     "output_type": "stream",
     "text": [
      "pitchers final points from this string of events is 1507.864\n",
      "updated batter points [1494.369, 1395.287, 1296.26, 1454.789, 1395.352, 1606.079]\n"
     ]
    }
   ],
   "source": [
    "# pitcher who is pitching\n",
    "pitcher = 1500\n",
    "# list of batters up to bat with the result of each event\n",
    "batter_event = [[1500, 'k'], [1400, 'k'], [1300, 'k'], [1450, 'h'], [1400, 'k'], [1600, 'hr']]\n",
    "for i in range(len(batter_event)):\n",
    "    batter, event = batter_event[i]\n",
    "    pitcher, batter_event[i] = update_score(pitcher, batter, event, wf)\n",
    "\n",
    "print('pitchers final points from this string of events is', pitcher)\n",
    "print('updated batter points', batter_event)"
   ]
  },
  {
   "cell_type": "code",
   "execution_count": 217,
   "metadata": {},
   "outputs": [
    {
     "name": "stdout",
     "output_type": "stream",
     "text": [
      "pitchers final points from this string of events is 1500\n",
      "sum:  -3.6390000000728833\n",
      "h 0.4364364364364364\n",
      "hr 0.07407407407407407\n",
      "k 0.4894894894894895\n"
     ]
    }
   ],
   "source": [
    "# pitcher who is pitching\n",
    "pitcher = 1500\n",
    "# list of batters up to bat with the result of each event\n",
    "batter = 1500\n",
    "\n",
    "batter_event = ['k']*489 + ['h']*436 + ['hr']*74\n",
    "res = [0]*len(batter_event)\n",
    "for i in range(len(batter_event)):\n",
    "    event = batter_event[i]\n",
    "    _, res[i] = update_score(pitcher, batter, event, wf)\n",
    "    res[i] = res[i] - 1500\n",
    "print('pitchers final points from this string of events is', pitcher)\n",
    "print('sum: ', sum(res))\n",
    "vals, counts = np.unique(batter_event, return_counts=True)\n",
    "for i in range(len(counts)):\n",
    "    print(vals[i], counts[i]/sum(counts))"
   ]
  },
  {
   "cell_type": "markdown",
   "metadata": {},
   "source": [
    "## Running the algorithm\n",
    "\n",
    "+ Initialize by giving every player the same number of points (e.g., 1500 points) at the start of a some season.\n",
    "+ Before each event (single, double, triple, hr, k), compute how much each player will wager based on their skill levels. The player with the higher skill level will wager more points than a player with less points.\n",
    "+ After each event, depending on the probability of the event, compute how much of the wagered points will be transferred to the other player.\n"
   ]
  },
  {
   "cell_type": "markdown",
   "metadata": {},
   "source": [
    "### 2017 Season Data"
   ]
  },
  {
   "cell_type": "code",
   "execution_count": 203,
   "metadata": {},
   "outputs": [],
   "source": [
    "point_df = data.loc[:, ('game_date', 'game_pk', 'sv_id', 'pitcher', 'batter', 'events')].copy()\n",
    "points_df = point_df.sort_values(['game_date', 'sv_id'])\n",
    "pitchers = { int(p): [1500.0] for p in point_df.pitcher.unique()}\n",
    "batters = { int(b): [1500.0] for b in point_df.batter.unique()}"
   ]
  },
  {
   "cell_type": "code",
   "execution_count": 204,
   "metadata": {},
   "outputs": [],
   "source": [
    "for row in point_df.iterrows():\n",
    "    row = row[1]\n",
    "    event = event_map(row.events)\n",
    "    if event != -1:\n",
    "        p_id = int(row.pitcher)\n",
    "        b_id = int(row.batter)\n",
    "        update = update_score(history_avg(pitchers[p_id], h), history_avg(batters[b_id], h), event, wf)\n",
    "        pitchers[p_id].append(update[0])\n",
    "        batters[b_id].append(update[1])"
   ]
  },
  {
   "cell_type": "code",
   "execution_count": 205,
   "metadata": {},
   "outputs": [],
   "source": [
    "# sort the batters and pitchers by thier final scores\n",
    "batters_sorted = sorted([(k, v[-1]) for k, v in batters.items()], key=lambda x: x[1])\n",
    "pitchers_sorted = sorted([(k, v[-1]) for k, v in pitchers.items()], key=lambda x: x[1])"
   ]
  },
  {
   "cell_type": "code",
   "execution_count": 206,
   "metadata": {},
   "outputs": [
    {
     "data": {
      "image/png": "[encoded data removed]",
      "text/plain": [
       "<Figure size 432x288 with 1 Axes>"
      ]
     },
     "metadata": {
      "needs_background": "light"
     },
     "output_type": "display_data"
    }
   ],
   "source": [
    "# plot the final points of all players\n",
    "plt.scatter(np.array(batters_sorted).transpose()[1], np.linspace(0, 1, len(batters_sorted)), color='r', alpha=.2)\n",
    "plt.scatter(np.array(pitchers_sorted).transpose()[1], np.linspace(0, 1, len(pitchers_sorted)), color='b', alpha=.2)\n",
    "plt.title('Points Distributed End Of 2017 Season')\n",
    "plt.ylabel('Rank')\n",
    "plt.xlabel('Points')\n",
    "plt.legend(['Batter', 'Pitcher'])\n",
    "plt.show()"
   ]
  },
  {
   "cell_type": "markdown",
   "metadata": {},
   "source": [
    "### 2018 Season Data"
   ]
  },
  {
   "cell_type": "code",
   "execution_count": 207,
   "metadata": {},
   "outputs": [],
   "source": [
    "point_df = data18.loc[:, ('game_date', 'game_pk', 'sv_id', 'pitcher', 'batter', 'events')].copy()\n",
    "points_df = point_df.sort_values(['game_date', 'sv_id'])\n",
    "pitchers = { int(p): [1500.0]\n",
    "            for p in point_df.pitcher.unique()}\n",
    "batters = { int(b): [1500.0]\n",
    "           for b in point_df.batter.unique()}"
   ]
  },
  {
   "cell_type": "code",
   "execution_count": 208,
   "metadata": {},
   "outputs": [],
   "source": [
    "for row in point_df.iterrows():\n",
    "    row = row[1]\n",
    "    event = event_map(row.events)\n",
    "    if event != -1:\n",
    "        p_id = int(row.pitcher)\n",
    "        b_id = int(row.batter)\n",
    "        update = update_score(history_avg(pitchers[p_id], h), history_avg(batters[b_id], h), event, wf)\n",
    "        pitchers[p_id].append(update[0])\n",
    "        batters[b_id].append(update[1])"
   ]
  },
  {
   "cell_type": "code",
   "execution_count": 209,
   "metadata": {},
   "outputs": [],
   "source": [
    "# sort the batters and pitchers by thier final scores\n",
    "batters_sorted = sorted([(k, v[-1]) for k, v in batters.items()], key=lambda x: x[1])\n",
    "pitchers_sorted = sorted([(k, v[-1]) for k, v in pitchers.items()], key=lambda x: x[1])"
   ]
  },
  {
   "cell_type": "code",
   "execution_count": 210,
   "metadata": {},
   "outputs": [
    {
     "data": {
      "image/png": "[encoded data removed]",
      "text/plain": [
       "<Figure size 432x288 with 1 Axes>"
      ]
     },
     "metadata": {
      "needs_background": "light"
     },
     "output_type": "display_data"
    }
   ],
   "source": [
    "# plot the final points of all players\n",
    "plt.scatter(np.array(batters_sorted).transpose()[1], np.linspace(0, 1, len(batters_sorted)), color='r', alpha=.2)\n",
    "plt.scatter(np.array(pitchers_sorted).transpose()[1], np.linspace(0, 1, len(pitchers_sorted)), color='b', alpha=.2)\n",
    "plt.title('Points Distributed End Of 2018 Season')\n",
    "plt.ylabel('Rank')\n",
    "plt.xlabel('Points')\n",
    "plt.legend(['Batter', 'Pitcher'])\n",
    "plt.show()"
   ]
  },
  {
   "cell_type": "markdown",
   "metadata": {},
   "source": [
    "# NOTES\n",
    "\n",
    "+ Useful for looking what each column in statcast data is https://baseballsavant.mlb.com/csv-docs#events\n",
    "+ Wiki on the Elo rating system https://en.wikipedia.org/wiki/Elo_rating_system"
   ]
  },
  {
   "cell_type": "code",
   "execution_count": null,
   "metadata": {},
   "outputs": [],
   "source": []
  }
 ],
 "metadata": {
  "kernelspec": {
   "display_name": "Python 3",
   "language": "python",
   "name": "python3"
  },
  "language_info": {
   "codemirror_mode": {
    "name": "ipython",
    "version": 3
   },
   "file_extension": ".py",
   "mimetype": "text/x-python",
   "name": "python",
   "nbconvert_exporter": "python",
   "pygments_lexer": "ipython3",
   "version": "3.7.0"
  }
 },
 "nbformat": 4,
 "nbformat_minor": 2
}
